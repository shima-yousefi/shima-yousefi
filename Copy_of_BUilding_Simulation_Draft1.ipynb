{
  "nbformat": 4,
  "nbformat_minor": 0,
  "metadata": {
    "colab": {
      "provenance": [],
      "authorship_tag": "ABX9TyMnndNHP/tvJB01HJRBfQdb",
      "include_colab_link": true
    },
    "kernelspec": {
      "name": "python3",
      "display_name": "Python 3"
    },
    "language_info": {
      "name": "python"
    }
  },
  "cells": [
    {
      "cell_type": "markdown",
      "metadata": {
        "id": "view-in-github",
        "colab_type": "text"
      },
      "source": [
        "<a href=\"https://colab.research.google.com/github/shima-yousefi/shima-yousefi/blob/main/Copy_of_BUilding_Simulation_Draft1.ipynb\" target=\"_parent\"><img src=\"https://colab.research.google.com/assets/colab-badge.svg\" alt=\"Open In Colab\"/></a>"
      ]
    },
    {
      "cell_type": "code",
      "execution_count": null,
      "metadata": {
        "id": "Zb4T-_qax9wp",
        "colab": {
          "base_uri": "https://localhost:8080/"
        },
        "outputId": "ea9860a3-ce01-49ed-cdfd-57fc3192f3f4"
      },
      "outputs": [
        {
          "output_type": "stream",
          "name": "stdout",
          "text": [
            "Enter number of lights per floor: 2\n",
            "Enter number of appliances per floor: 2\n",
            "Enter HVAC usage in hours per day: 8\n",
            "Enter wattage of lights: 100\n",
            "Enter wattage of appliances: 120\n",
            "Enter wattage of HVAC: 300\n",
            "Enter wall material (brick, concrete, etc.): brick\n",
            "Enter window material (single pane, double pane, etc.): single pane\n",
            "Enter volume of walls in cubic meters: 60\n",
            "Enter number of occupants: 3\n",
            "Enter daily occupancy hours: 8\n",
            "Enter number of floors: 2\n",
            "Total energy consumption for the month: 777601.17 watt-hours\n"
          ]
        }
      ],
      "source": [
        "def calculate_energy_consumption():\n",
        "    # Building characteristics\n",
        "    lights_per_floor = float(input(\"Enter number of lights per floor: \"))\n",
        "    appliances_per_floor = float(input(\"Enter number of appliances per floor: \"))\n",
        "    hvac_usage = float(input(\"Enter HVAC usage in hours per day: \"))\n",
        "    # Energy usage (in watts)\n",
        "    light_wattage = float(input(\"Enter wattage of lights: \"))\n",
        "    appliance_wattage = float(input(\"Enter wattage of appliances: \"))\n",
        "    hvac_wattage = float(input(\"Enter wattage of HVAC: \"))\n",
        "    # Building materials\n",
        "    wall_material = input(\"Enter wall material (brick, concrete, etc.): \")\n",
        "    window_material = input(\"Enter window material (single pane, double pane, etc.): \")\n",
        "    # Volume of walls\n",
        "    wall_volume = float(input(\"Enter volume of walls in cubic meters: \"))\n",
        "    # Occupants schedule\n",
        "    num_occupants = float(input(\"Enter number of occupants: \"))\n",
        "    daily_occupancy_hours = float(input(\"Enter daily occupancy hours: \"))\n",
        "    # Number of floors in the building\n",
        "    floors = float(input(\"Enter number of floors: \"))\n",
        "    # Number of days in a month\n",
        "    days_in_month = 30\n",
        "\n",
        "    # Thermal conductivity of building materials\n",
        "    thermal_conductivity = {\"brick\": 0.72, \"concrete\": 2.2, \"single pane\": 5.7, \"double pane\": 2.8}\n",
        "\n",
        "    # Calculate total energy usage for lighting\n",
        "    light_usage = lights_per_floor * light_wattage * floors * 24 * days_in_month\n",
        "\n",
        "    # Calculate total energy usage for appliances\n",
        "    appliance_usage = appliances_per_floor * appliance_wattage * floors * 24 * days_in_month\n",
        "\n",
        "    # Calculate total energy usage for HVAC\n",
        "    hvac_usage = (hvac_usage * hvac_wattage * floors * days_in_month) + (wall_volume * thermal_conductivity[wall_material] + thermal_conductivity[window_material] ) * (daily_occupancy_hours * num_occupants) /1000\n",
        "\n",
        "    # Add energy usage together to get total energy consumption\n",
        "    total_energy_usage = light_usage + appliance_usage + hvac_usage\n",
        "\n",
        "    print(\"Total energy consumption for the month: {:.2f} watt-hours\".format(total_energy_usage))\n",
        "\n",
        "calculate_energy_consumption()"
      ]
    },
    {
      "cell_type": "code",
      "execution_count": null,
      "metadata": {
        "id": "duDA3PnTzAYL"
      },
      "outputs": [],
      "source": [
        "def calculate_energy_consumption():\n",
        "    # Building characteristics\n",
        "    lights_per_floor = float(input(\"Enter number of lights per floor: \"))\n",
        "    appliances_per_floor = float(input(\"Enter number of appliances per floor: \"))\n",
        "    hvac_usage = float(input(\"Enter HVAC usage in hours per day: \"))\n",
        "    # Energy usage (in watts)\n",
        "    light_wattage = float(input(\"Enter wattage of lights: \"))\n",
        "    appliance_wattage = float(input(\"Enter wattage of appliances: \"))\n",
        "    hvac_wattage = float(input(\"Enter wattage of HVAC: \"))\n",
        "    # Building materials\n",
        "    wall_material = input(\"Enter wall material (brick, concrete, etc.): \")\n",
        "    window_material = input(\"Enter window material (single pane, double pane, etc.): \")\n",
        "    # Volume of walls\n",
        "    wall_volume = float(input(\"Enter volume of walls in cubic meters: \"))\n",
        "    # Occupants schedule\n",
        "    num_occupants = float(input(\"Enter number of occupants: \"))\n",
        "    daily_occupancy_hours = float(input(\"Enter daily occupancy hours: \"))\n",
        "    # Number of floors in the building\n",
        "    floors = float(input(\"Enter number of floors: \"))\n",
        "    # Number of days in a month\n",
        "    days_in_month = 30\n",
        "\n",
        "    # Thermal conductivity of building materials\n",
        "    thermal_conductivity = {\"brick\": 0.72, \"concrete\": 2.2, \"single pane\": 5.7, \"double pane\": 2.8}\n",
        "\n",
        "    # Calculate total energy usage for lighting\n",
        "    light_usage = lights_per_floor * light_wattage * floors * 24 * days_in_month\n",
        "\n",
        "    # Calculate total energy usage for appliances\n",
        "    appliance_usage = appliances_per_floor * appliance_wattage * floors * 24 * days_in_month\n",
        "\n",
        "    # Calculate total energy usage for HVAC\n",
        "    hvac_usage = (hvac_usage * hvac_wattage * floors * days_in_month) + (wall_volume * thermal_conductivity[wall_material] + thermal_conductivity[window_material] ) * (daily_occupancy_hours * num_occupants) /1000\n",
        "\n",
        "    # Add energy usage together to get total energy consumption\n",
        "    total_energy_usage = light_usage + appliance_usage + hvac_usage\n",
        "\n",
        "    print(\"Total energy consumption for the month: {:.2f} watt-hours\".format(total_energy_usage))\n",
        "\n",
        "calculate_energy_consumption()"
      ]
    },
    {
      "cell_type": "code",
      "source": [
        "class Building:\n",
        "    def __init__(self, walls, windows, appliances):\n",
        "        self.walls = walls\n",
        "        self.windows = windows\n",
        "        self.appliances = appliances\n",
        "    \n",
        "    def monthly_energy_consumption(self):\n",
        "        energy_consumption = 0\n",
        "        for wall in self.walls:\n",
        "            energy_consumption += wall.energy_consumption()\n",
        "        for window in self.windows:\n",
        "            energy_consumption += window.energy_consumption()\n",
        "        for appliance in self.appliances:\n",
        "            energy_consumption += appliance.energy_consumption()\n",
        "        return energy_consumption\n",
        "\n",
        "class Wall:\n",
        "    def __init__(self, material, thickness, area):\n",
        "        self.material = material\n",
        "        self.thickness = thickness\n",
        "        self.area = area\n",
        "    \n",
        "    def energy_consumption(self):\n",
        "        material_data = MaterialLibrary.get(self.material)\n",
        "        if material_data:\n",
        "            thermal_conductivity = material_data['thermal_conductivity']\n",
        "            return self.area * self.thickness * thermal_conductivity\n",
        "        else:\n",
        "            raise ValueError(\"Material not found in library\")\n",
        "\n",
        "class Window:\n",
        "    def __init__(self, area):\n",
        "        self.area = area\n",
        "    \n",
        "    def energy_consumption(self):\n",
        "        # Assume a constant energy consumption per square foot\n",
        "        return self.area * 0.5\n",
        "\n",
        "class Appliance:\n",
        "    def __init__(self, energy_usage):\n",
        "        self.energy_usage = energy_usage\n",
        "    \n",
        "    def energy_consumption(self):\n",
        "        return self.energy_usage\n",
        "\n",
        "class MaterialLibrary:\n",
        "    library = {\n",
        "        \"wood\": {\"thermal_conductivity\": 0.1},\n",
        "        \"brick\": {\"thermal_conductivity\": 0.2},\n",
        "        \"insulation\": {\"thermal_conductivity\": 0.03},\n",
        "    }\n",
        "    \n",
        "    @classmethod\n",
        "    def get(cls, material):\n",
        "        return cls.library.get(material)\n",
        "    \n",
        "    @classmethod\n",
        "    def update(cls, material, data):\n",
        "        cls.library[material] = data\n",
        "\n",
        "# Example usage:\n",
        "walls = [Wall(\"wood\", 4, 100), Wall(\"brick\", 8, 50), Wall(\"insulation\", 2, 75)]\n",
        "windows = [Window(20), Window(10)]\n",
        "appliances = [Appliance(1000), Appliance(500)]\n",
        "building = Building(walls, windows, appliances)\n",
        "monthly_energy_consumption = building.monthly_energy_consumption()\n",
        "print(monthly_energy_consumption)"
      ],
      "metadata": {
        "id": "v5V_0tdB0m6W",
        "colab": {
          "base_uri": "https://localhost:8080/"
        },
        "outputId": "f483cf40-cbe9-4df5-9eb1-5733ba70d75a"
      },
      "execution_count": 2,
      "outputs": [
        {
          "output_type": "stream",
          "name": "stdout",
          "text": [
            "1639.5\n"
          ]
        }
      ]
    },
    {
      "cell_type": "code",
      "source": [
        "import matplotlib.pyplot as plt\n",
        "\n",
        "class Building:\n",
        "    def __init__(self, walls, windows, appliances):\n",
        "        self.walls = walls\n",
        "        self.windows = windows\n",
        "        self.appliances = appliances\n",
        "    \n",
        "    def monthly_energy_consumption(self,months):\n",
        "        energy_consumption = []\n",
        "        for i in range(months):\n",
        "            energy_month=0\n",
        "            for wall in self.walls:\n",
        "                energy_month += wall.energy_consumption()\n",
        "            for window in self.windows:\n",
        "                energy_month += window.energy_consumption()\n",
        "            for appliance in self.appliances:\n",
        "                energy_month += appliance.energy_consumption()\n",
        "            energy_consumption.append(energy_month)\n",
        "        return energy_consumption\n",
        "\n",
        "# Example usage:\n",
        "walls = [Wall(\"wood\", 4, 100), Wall(\"brick\", 8, 50), Wall(\"insulation\", 2, 75)]\n",
        "windows = [Window(20), Window(10)]\n",
        "appliances = [Appliance(1000), Appliance(500)]\n",
        "building = Building(walls, windows, appliances)\n",
        "months = 12\n",
        "monthly_energy_consumption = building.monthly_energy_consumption(months)\n",
        "\n",
        "# create the x axis as months \n",
        "x = [i for i in range(1, months+1)]\n",
        "plt.plot(x, monthly_energy_consumption)\n",
        "plt.xlabel(\"Month\")\n",
        "plt.ylabel(\"Energy Consumption (kWh)\")\n",
        "plt.title(\"Monthly Energy Consumption of Building\")\n",
        "plt.show()"
      ],
      "metadata": {
        "id": "LD-GSVG_J2yi",
        "colab": {
          "base_uri": "https://localhost:8080/",
          "height": 235
        },
        "outputId": "3c41533d-e906-476e-fc87-cca39eab1c42"
      },
      "execution_count": 1,
      "outputs": [
        {
          "output_type": "error",
          "ename": "NameError",
          "evalue": "ignored",
          "traceback": [
            "\u001b[0;31m---------------------------------------------------------------------------\u001b[0m",
            "\u001b[0;31mNameError\u001b[0m                                 Traceback (most recent call last)",
            "\u001b[0;32m<ipython-input-1-bb294025749b>\u001b[0m in \u001b[0;36m<module>\u001b[0;34m\u001b[0m\n\u001b[1;32m     21\u001b[0m \u001b[0;34m\u001b[0m\u001b[0m\n\u001b[1;32m     22\u001b[0m \u001b[0;31m# Example usage:\u001b[0m\u001b[0;34m\u001b[0m\u001b[0;34m\u001b[0m\u001b[0;34m\u001b[0m\u001b[0m\n\u001b[0;32m---> 23\u001b[0;31m \u001b[0mwalls\u001b[0m \u001b[0;34m=\u001b[0m \u001b[0;34m[\u001b[0m\u001b[0mWall\u001b[0m\u001b[0;34m(\u001b[0m\u001b[0;34m\"wood\"\u001b[0m\u001b[0;34m,\u001b[0m \u001b[0;36m4\u001b[0m\u001b[0;34m,\u001b[0m \u001b[0;36m100\u001b[0m\u001b[0;34m)\u001b[0m\u001b[0;34m,\u001b[0m \u001b[0mWall\u001b[0m\u001b[0;34m(\u001b[0m\u001b[0;34m\"brick\"\u001b[0m\u001b[0;34m,\u001b[0m \u001b[0;36m8\u001b[0m\u001b[0;34m,\u001b[0m \u001b[0;36m50\u001b[0m\u001b[0;34m)\u001b[0m\u001b[0;34m,\u001b[0m \u001b[0mWall\u001b[0m\u001b[0;34m(\u001b[0m\u001b[0;34m\"insulation\"\u001b[0m\u001b[0;34m,\u001b[0m \u001b[0;36m2\u001b[0m\u001b[0;34m,\u001b[0m \u001b[0;36m75\u001b[0m\u001b[0;34m)\u001b[0m\u001b[0;34m]\u001b[0m\u001b[0;34m\u001b[0m\u001b[0;34m\u001b[0m\u001b[0m\n\u001b[0m\u001b[1;32m     24\u001b[0m \u001b[0mwindows\u001b[0m \u001b[0;34m=\u001b[0m \u001b[0;34m[\u001b[0m\u001b[0mWindow\u001b[0m\u001b[0;34m(\u001b[0m\u001b[0;36m20\u001b[0m\u001b[0;34m)\u001b[0m\u001b[0;34m,\u001b[0m \u001b[0mWindow\u001b[0m\u001b[0;34m(\u001b[0m\u001b[0;36m10\u001b[0m\u001b[0;34m)\u001b[0m\u001b[0;34m]\u001b[0m\u001b[0;34m\u001b[0m\u001b[0;34m\u001b[0m\u001b[0m\n\u001b[1;32m     25\u001b[0m \u001b[0mappliances\u001b[0m \u001b[0;34m=\u001b[0m \u001b[0;34m[\u001b[0m\u001b[0mAppliance\u001b[0m\u001b[0;34m(\u001b[0m\u001b[0;36m1000\u001b[0m\u001b[0;34m)\u001b[0m\u001b[0;34m,\u001b[0m \u001b[0mAppliance\u001b[0m\u001b[0;34m(\u001b[0m\u001b[0;36m500\u001b[0m\u001b[0;34m)\u001b[0m\u001b[0;34m]\u001b[0m\u001b[0;34m\u001b[0m\u001b[0;34m\u001b[0m\u001b[0m\n",
            "\u001b[0;31mNameError\u001b[0m: name 'Wall' is not defined"
          ]
        }
      ]
    }
  ]
}